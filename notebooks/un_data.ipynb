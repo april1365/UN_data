{
 "cells": [
  {
   "cell_type": "code",
   "execution_count": 1,
   "id": "0f0f31e4",
   "metadata": {},
   "outputs": [],
   "source": [
    "import pandas as pd\n",
    "import matplotlib.pyplot as plt\n",
    "import seaborn as sns\n",
    "import numpy as np\n",
    "%matplotlib inline"
   ]
  },
  {
   "cell_type": "code",
   "execution_count": 2,
   "id": "ddb88c84",
   "metadata": {},
   "outputs": [],
   "source": [
    "gdp_df = pd.read_csv(\"C:\\\\Users\\\\April\\\\NSS\\\\python\\\\projects\\\\un_data-april1365\\\\data\\\\gdp_percapita.csv.csv\")"
   ]
  },
  {
   "cell_type": "code",
   "execution_count": 3,
   "id": "8a307aac",
   "metadata": {},
   "outputs": [
    {
     "data": {
      "text/html": [
       "<div>\n",
       "<style scoped>\n",
       "    .dataframe tbody tr th:only-of-type {\n",
       "        vertical-align: middle;\n",
       "    }\n",
       "\n",
       "    .dataframe tbody tr th {\n",
       "        vertical-align: top;\n",
       "    }\n",
       "\n",
       "    .dataframe thead th {\n",
       "        text-align: right;\n",
       "    }\n",
       "</style>\n",
       "<table border=\"1\" class=\"dataframe\">\n",
       "  <thead>\n",
       "    <tr style=\"text-align: right;\">\n",
       "      <th></th>\n",
       "      <th>Country or Area</th>\n",
       "      <th>Year</th>\n",
       "      <th>Value</th>\n",
       "      <th>Value Footnotes</th>\n",
       "    </tr>\n",
       "  </thead>\n",
       "  <tbody>\n",
       "    <tr>\n",
       "      <th>0</th>\n",
       "      <td>Afghanistan</td>\n",
       "      <td>2020</td>\n",
       "      <td>1970.560169</td>\n",
       "      <td>NaN</td>\n",
       "    </tr>\n",
       "    <tr>\n",
       "      <th>1</th>\n",
       "      <td>Afghanistan</td>\n",
       "      <td>2019</td>\n",
       "      <td>2065.036235</td>\n",
       "      <td>NaN</td>\n",
       "    </tr>\n",
       "    <tr>\n",
       "      <th>2</th>\n",
       "      <td>Afghanistan</td>\n",
       "      <td>2018</td>\n",
       "      <td>2033.804389</td>\n",
       "      <td>NaN</td>\n",
       "    </tr>\n",
       "    <tr>\n",
       "      <th>3</th>\n",
       "      <td>Afghanistan</td>\n",
       "      <td>2017</td>\n",
       "      <td>2058.400221</td>\n",
       "      <td>NaN</td>\n",
       "    </tr>\n",
       "    <tr>\n",
       "      <th>4</th>\n",
       "      <td>Afghanistan</td>\n",
       "      <td>2016</td>\n",
       "      <td>2057.067978</td>\n",
       "      <td>NaN</td>\n",
       "    </tr>\n",
       "  </tbody>\n",
       "</table>\n",
       "</div>"
      ],
      "text/plain": [
       "  Country or Area  Year        Value  Value Footnotes\n",
       "0     Afghanistan  2020  1970.560169              NaN\n",
       "1     Afghanistan  2019  2065.036235              NaN\n",
       "2     Afghanistan  2018  2033.804389              NaN\n",
       "3     Afghanistan  2017  2058.400221              NaN\n",
       "4     Afghanistan  2016  2057.067978              NaN"
      ]
     },
     "execution_count": 3,
     "metadata": {},
     "output_type": "execute_result"
    }
   ],
   "source": [
    "gdp_df.head(5)"
   ]
  },
  {
   "cell_type": "code",
   "execution_count": 4,
   "id": "d4d3ba56",
   "metadata": {},
   "outputs": [
    {
     "data": {
      "text/html": [
       "<div>\n",
       "<style scoped>\n",
       "    .dataframe tbody tr th:only-of-type {\n",
       "        vertical-align: middle;\n",
       "    }\n",
       "\n",
       "    .dataframe tbody tr th {\n",
       "        vertical-align: top;\n",
       "    }\n",
       "\n",
       "    .dataframe thead th {\n",
       "        text-align: right;\n",
       "    }\n",
       "</style>\n",
       "<table border=\"1\" class=\"dataframe\">\n",
       "  <thead>\n",
       "    <tr style=\"text-align: right;\">\n",
       "      <th></th>\n",
       "      <th>Country or Area</th>\n",
       "      <th>Year</th>\n",
       "      <th>Value</th>\n",
       "      <th>Value Footnotes</th>\n",
       "    </tr>\n",
       "  </thead>\n",
       "  <tbody>\n",
       "    <tr>\n",
       "      <th>7171</th>\n",
       "      <td>Zimbabwe</td>\n",
       "      <td>1994</td>\n",
       "      <td>2603.927369</td>\n",
       "      <td>NaN</td>\n",
       "    </tr>\n",
       "    <tr>\n",
       "      <th>7172</th>\n",
       "      <td>Zimbabwe</td>\n",
       "      <td>1993</td>\n",
       "      <td>2420.092791</td>\n",
       "      <td>NaN</td>\n",
       "    </tr>\n",
       "    <tr>\n",
       "      <th>7173</th>\n",
       "      <td>Zimbabwe</td>\n",
       "      <td>1992</td>\n",
       "      <td>2437.152908</td>\n",
       "      <td>NaN</td>\n",
       "    </tr>\n",
       "    <tr>\n",
       "      <th>7174</th>\n",
       "      <td>Zimbabwe</td>\n",
       "      <td>1991</td>\n",
       "      <td>2733.696626</td>\n",
       "      <td>NaN</td>\n",
       "    </tr>\n",
       "    <tr>\n",
       "      <th>7175</th>\n",
       "      <td>Zimbabwe</td>\n",
       "      <td>1990</td>\n",
       "      <td>2652.129209</td>\n",
       "      <td>NaN</td>\n",
       "    </tr>\n",
       "  </tbody>\n",
       "</table>\n",
       "</div>"
      ],
      "text/plain": [
       "     Country or Area  Year        Value  Value Footnotes\n",
       "7171        Zimbabwe  1994  2603.927369              NaN\n",
       "7172        Zimbabwe  1993  2420.092791              NaN\n",
       "7173        Zimbabwe  1992  2437.152908              NaN\n",
       "7174        Zimbabwe  1991  2733.696626              NaN\n",
       "7175        Zimbabwe  1990  2652.129209              NaN"
      ]
     },
     "execution_count": 4,
     "metadata": {},
     "output_type": "execute_result"
    }
   ],
   "source": [
    "gdp_df.tail(5)"
   ]
  },
  {
   "cell_type": "markdown",
   "id": "7b31cbba",
   "metadata": {},
   "source": [
    "How many rows and columns are in gdp_df? What are the data types of each column?\n",
    "\n",
    "7176 rows, 4 columns; object, integer, float, float"
   ]
  },
  {
   "cell_type": "code",
   "execution_count": 5,
   "id": "16b8c482",
   "metadata": {},
   "outputs": [
    {
     "data": {
      "text/plain": [
       "(7176, 4)"
      ]
     },
     "execution_count": 5,
     "metadata": {},
     "output_type": "execute_result"
    }
   ],
   "source": [
    "gdp_df.shape"
   ]
  },
  {
   "cell_type": "markdown",
   "id": "5df1fcf1",
   "metadata": {},
   "source": [
    "gdp_df.dtypes"
   ]
  },
  {
   "cell_type": "code",
   "execution_count": 6,
   "id": "333f15a0",
   "metadata": {},
   "outputs": [
    {
     "data": {
      "text/plain": [
       "Country or Area     object\n",
       "Year                 int64\n",
       "Value              float64\n",
       "Value Footnotes    float64\n",
       "dtype: object"
      ]
     },
     "execution_count": 6,
     "metadata": {},
     "output_type": "execute_result"
    }
   ],
   "source": [
    "gdp_df.dtypes"
   ]
  },
  {
   "cell_type": "markdown",
   "id": "83867aa0",
   "metadata": {},
   "source": [
    "Drop the Value Footnotes column and rename the remaining three to 'Country', 'Year', and 'GDP_Per_Capita'."
   ]
  },
  {
   "cell_type": "code",
   "execution_count": 7,
   "id": "b147eae3",
   "metadata": {},
   "outputs": [],
   "source": [
    "gdp_df = gdp_df.drop(columns = ['Value Footnotes'])"
   ]
  },
  {
   "cell_type": "code",
   "execution_count": 13,
   "id": "fea5cc5a",
   "metadata": {},
   "outputs": [],
   "source": [
    "gdp_df.columns = ['Country', 'Year', 'GDP_Per_capita']"
   ]
  },
  {
   "cell_type": "code",
   "execution_count": 10,
   "id": "98756322",
   "metadata": {},
   "outputs": [
    {
     "name": "stdout",
     "output_type": "stream",
     "text": [
      "     Country or Area  Year        Value\n",
      "0        Afghanistan  2020  1970.560169\n",
      "1        Afghanistan  2019  2065.036235\n",
      "2        Afghanistan  2018  2033.804389\n",
      "3        Afghanistan  2017  2058.400221\n",
      "4        Afghanistan  2016  2057.067978\n",
      "...              ...   ...          ...\n",
      "7171        Zimbabwe  1994  2603.927369\n",
      "7172        Zimbabwe  1993  2420.092791\n",
      "7173        Zimbabwe  1992  2437.152908\n",
      "7174        Zimbabwe  1991  2733.696626\n",
      "7175        Zimbabwe  1990  2652.129209\n",
      "\n",
      "[7176 rows x 3 columns]\n"
     ]
    }
   ],
   "source": [
    "print(gdp_df)"
   ]
  },
  {
   "cell_type": "markdown",
   "id": "680d2997",
   "metadata": {},
   "source": [
    "How many countries have data for all years?\n",
    "\n",
    "205 have data for all years. "
   ]
  },
  {
   "cell_type": "code",
   "execution_count": 14,
   "id": "54014347",
   "metadata": {},
   "outputs": [
    {
     "data": {
      "text/plain": [
       "Least developed countries: UN classification    31\n",
       "Niger                                           31\n",
       "Middle East & North Africa (IDA & IBRD)         31\n",
       "Middle income                                   31\n",
       "Mongolia                                        31\n",
       "                                                ..\n",
       "Kosovo                                          13\n",
       "Turks and Caicos Islands                        10\n",
       "Sint Maarten (Dutch part)                       10\n",
       "Somalia                                          8\n",
       "Djibouti                                         8\n",
       "Name: Country, Length: 242, dtype: int64"
      ]
     },
     "execution_count": 14,
     "metadata": {},
     "output_type": "execute_result"
    }
   ],
   "source": [
    "year_count = gdp_df.Country.value_counts()\n",
    "year_count"
   ]
  },
  {
   "cell_type": "code",
   "execution_count": 15,
   "id": "939efdfd",
   "metadata": {},
   "outputs": [
    {
     "data": {
      "text/html": [
       "<div>\n",
       "<style scoped>\n",
       "    .dataframe tbody tr th:only-of-type {\n",
       "        vertical-align: middle;\n",
       "    }\n",
       "\n",
       "    .dataframe tbody tr th {\n",
       "        vertical-align: top;\n",
       "    }\n",
       "\n",
       "    .dataframe thead th {\n",
       "        text-align: right;\n",
       "    }\n",
       "</style>\n",
       "<table border=\"1\" class=\"dataframe\">\n",
       "  <thead>\n",
       "    <tr style=\"text-align: right;\">\n",
       "      <th></th>\n",
       "      <th>Country</th>\n",
       "    </tr>\n",
       "  </thead>\n",
       "  <tbody>\n",
       "    <tr>\n",
       "      <th>Least developed countries: UN classification</th>\n",
       "      <td>31</td>\n",
       "    </tr>\n",
       "    <tr>\n",
       "      <th>Niger</th>\n",
       "      <td>31</td>\n",
       "    </tr>\n",
       "    <tr>\n",
       "      <th>Middle East &amp; North Africa (IDA &amp; IBRD)</th>\n",
       "      <td>31</td>\n",
       "    </tr>\n",
       "    <tr>\n",
       "      <th>Middle income</th>\n",
       "      <td>31</td>\n",
       "    </tr>\n",
       "    <tr>\n",
       "      <th>Mongolia</th>\n",
       "      <td>31</td>\n",
       "    </tr>\n",
       "    <tr>\n",
       "      <th>...</th>\n",
       "      <td>...</td>\n",
       "    </tr>\n",
       "    <tr>\n",
       "      <th>Kosovo</th>\n",
       "      <td>13</td>\n",
       "    </tr>\n",
       "    <tr>\n",
       "      <th>Turks and Caicos Islands</th>\n",
       "      <td>10</td>\n",
       "    </tr>\n",
       "    <tr>\n",
       "      <th>Sint Maarten (Dutch part)</th>\n",
       "      <td>10</td>\n",
       "    </tr>\n",
       "    <tr>\n",
       "      <th>Somalia</th>\n",
       "      <td>8</td>\n",
       "    </tr>\n",
       "    <tr>\n",
       "      <th>Djibouti</th>\n",
       "      <td>8</td>\n",
       "    </tr>\n",
       "  </tbody>\n",
       "</table>\n",
       "<p>242 rows × 1 columns</p>\n",
       "</div>"
      ],
      "text/plain": [
       "                                              Country\n",
       "Least developed countries: UN classification       31\n",
       "Niger                                              31\n",
       "Middle East & North Africa (IDA & IBRD)            31\n",
       "Middle income                                      31\n",
       "Mongolia                                           31\n",
       "...                                               ...\n",
       "Kosovo                                             13\n",
       "Turks and Caicos Islands                           10\n",
       "Sint Maarten (Dutch part)                          10\n",
       "Somalia                                             8\n",
       "Djibouti                                            8\n",
       "\n",
       "[242 rows x 1 columns]"
      ]
     },
     "execution_count": 15,
     "metadata": {},
     "output_type": "execute_result"
    }
   ],
   "source": [
    "year_count.to_frame()"
   ]
  },
  {
   "cell_type": "code",
   "execution_count": 16,
   "id": "29608051",
   "metadata": {},
   "outputs": [
    {
     "data": {
      "text/plain": [
       "pandas.core.series.Series"
      ]
     },
     "execution_count": 16,
     "metadata": {},
     "output_type": "execute_result"
    }
   ],
   "source": [
    "type(year_count)"
   ]
  },
  {
   "cell_type": "code",
   "execution_count": 17,
   "id": "afbf5125",
   "metadata": {},
   "outputs": [],
   "source": [
    "year_count = year_count.to_frame()"
   ]
  },
  {
   "cell_type": "code",
   "execution_count": 18,
   "id": "3e0b33b3",
   "metadata": {},
   "outputs": [
    {
     "data": {
      "text/html": [
       "<div>\n",
       "<style scoped>\n",
       "    .dataframe tbody tr th:only-of-type {\n",
       "        vertical-align: middle;\n",
       "    }\n",
       "\n",
       "    .dataframe tbody tr th {\n",
       "        vertical-align: top;\n",
       "    }\n",
       "\n",
       "    .dataframe thead th {\n",
       "        text-align: right;\n",
       "    }\n",
       "</style>\n",
       "<table border=\"1\" class=\"dataframe\">\n",
       "  <thead>\n",
       "    <tr style=\"text-align: right;\">\n",
       "      <th></th>\n",
       "      <th>Country</th>\n",
       "    </tr>\n",
       "  </thead>\n",
       "  <tbody>\n",
       "    <tr>\n",
       "      <th>Least developed countries: UN classification</th>\n",
       "      <td>31</td>\n",
       "    </tr>\n",
       "    <tr>\n",
       "      <th>Niger</th>\n",
       "      <td>31</td>\n",
       "    </tr>\n",
       "    <tr>\n",
       "      <th>Middle East &amp; North Africa (IDA &amp; IBRD)</th>\n",
       "      <td>31</td>\n",
       "    </tr>\n",
       "    <tr>\n",
       "      <th>Middle income</th>\n",
       "      <td>31</td>\n",
       "    </tr>\n",
       "    <tr>\n",
       "      <th>Mongolia</th>\n",
       "      <td>31</td>\n",
       "    </tr>\n",
       "  </tbody>\n",
       "</table>\n",
       "</div>"
      ],
      "text/plain": [
       "                                              Country\n",
       "Least developed countries: UN classification       31\n",
       "Niger                                              31\n",
       "Middle East & North Africa (IDA & IBRD)            31\n",
       "Middle income                                      31\n",
       "Mongolia                                           31"
      ]
     },
     "execution_count": 18,
     "metadata": {},
     "output_type": "execute_result"
    }
   ],
   "source": [
    "year_count.head(5)"
   ]
  },
  {
   "cell_type": "code",
   "execution_count": 19,
   "id": "72fafce4",
   "metadata": {},
   "outputs": [
    {
     "data": {
      "text/plain": [
       "31    205\n",
       "26     11\n",
       "21      6\n",
       "24      4\n",
       "30      2\n",
       "27      2\n",
       "10      2\n",
       "8       2\n",
       "29      1\n",
       "28      1\n",
       "22      1\n",
       "20      1\n",
       "19      1\n",
       "17      1\n",
       "15      1\n",
       "13      1\n",
       "Name: Country, dtype: int64"
      ]
     },
     "execution_count": 19,
     "metadata": {},
     "output_type": "execute_result"
    }
   ],
   "source": [
    "year_count.Country.value_counts()"
   ]
  },
  {
   "cell_type": "markdown",
   "id": "6918e253",
   "metadata": {},
   "source": [
    "Which countries are missing many years of data? Look at the number of observations per year. What do you notice?"
   ]
  },
  {
   "cell_type": "code",
   "execution_count": 20,
   "id": "b8855853",
   "metadata": {},
   "outputs": [
    {
     "data": {
      "text/plain": [
       "37"
      ]
     },
     "execution_count": 20,
     "metadata": {},
     "output_type": "execute_result"
    }
   ],
   "source": [
    "242 - 205"
   ]
  },
  {
   "cell_type": "code",
   "execution_count": 21,
   "id": "230afb29",
   "metadata": {
    "scrolled": true
   },
   "outputs": [
    {
     "data": {
      "text/html": [
       "<div>\n",
       "<style scoped>\n",
       "    .dataframe tbody tr th:only-of-type {\n",
       "        vertical-align: middle;\n",
       "    }\n",
       "\n",
       "    .dataframe tbody tr th {\n",
       "        vertical-align: top;\n",
       "    }\n",
       "\n",
       "    .dataframe thead th {\n",
       "        text-align: right;\n",
       "    }\n",
       "</style>\n",
       "<table border=\"1\" class=\"dataframe\">\n",
       "  <thead>\n",
       "    <tr style=\"text-align: right;\">\n",
       "      <th></th>\n",
       "      <th>Country</th>\n",
       "    </tr>\n",
       "  </thead>\n",
       "  <tbody>\n",
       "    <tr>\n",
       "      <th>Turkmenistan</th>\n",
       "      <td>30</td>\n",
       "    </tr>\n",
       "    <tr>\n",
       "      <th>Hungary</th>\n",
       "      <td>30</td>\n",
       "    </tr>\n",
       "    <tr>\n",
       "      <th>Slovak Republic</th>\n",
       "      <td>29</td>\n",
       "    </tr>\n",
       "    <tr>\n",
       "      <th>Cambodia</th>\n",
       "      <td>28</td>\n",
       "    </tr>\n",
       "    <tr>\n",
       "      <th>West Bank and Gaza</th>\n",
       "      <td>27</td>\n",
       "    </tr>\n",
       "    <tr>\n",
       "      <th>Bosnia and Herzegovina</th>\n",
       "      <td>27</td>\n",
       "    </tr>\n",
       "    <tr>\n",
       "      <th>Slovenia</th>\n",
       "      <td>26</td>\n",
       "    </tr>\n",
       "    <tr>\n",
       "      <th>Latvia</th>\n",
       "      <td>26</td>\n",
       "    </tr>\n",
       "    <tr>\n",
       "      <th>Israel</th>\n",
       "      <td>26</td>\n",
       "    </tr>\n",
       "    <tr>\n",
       "      <th>Lithuania</th>\n",
       "      <td>26</td>\n",
       "    </tr>\n",
       "    <tr>\n",
       "      <th>Serbia</th>\n",
       "      <td>26</td>\n",
       "    </tr>\n",
       "    <tr>\n",
       "      <th>Moldova</th>\n",
       "      <td>26</td>\n",
       "    </tr>\n",
       "    <tr>\n",
       "      <th>Iceland</th>\n",
       "      <td>26</td>\n",
       "    </tr>\n",
       "    <tr>\n",
       "      <th>Croatia</th>\n",
       "      <td>26</td>\n",
       "    </tr>\n",
       "    <tr>\n",
       "      <th>Estonia</th>\n",
       "      <td>26</td>\n",
       "    </tr>\n",
       "    <tr>\n",
       "      <th>Kuwait</th>\n",
       "      <td>26</td>\n",
       "    </tr>\n",
       "    <tr>\n",
       "      <th>Maldives</th>\n",
       "      <td>26</td>\n",
       "    </tr>\n",
       "    <tr>\n",
       "      <th>Canada</th>\n",
       "      <td>24</td>\n",
       "    </tr>\n",
       "    <tr>\n",
       "      <th>Montenegro</th>\n",
       "      <td>24</td>\n",
       "    </tr>\n",
       "    <tr>\n",
       "      <th>Small states</th>\n",
       "      <td>24</td>\n",
       "    </tr>\n",
       "    <tr>\n",
       "      <th>San Marino</th>\n",
       "      <td>24</td>\n",
       "    </tr>\n",
       "    <tr>\n",
       "      <th>Libya</th>\n",
       "      <td>22</td>\n",
       "    </tr>\n",
       "    <tr>\n",
       "      <th>Other small states</th>\n",
       "      <td>21</td>\n",
       "    </tr>\n",
       "    <tr>\n",
       "      <th>Liberia</th>\n",
       "      <td>21</td>\n",
       "    </tr>\n",
       "    <tr>\n",
       "      <th>Timor-Leste</th>\n",
       "      <td>21</td>\n",
       "    </tr>\n",
       "    <tr>\n",
       "      <th>CuraÃ§ao</th>\n",
       "      <td>21</td>\n",
       "    </tr>\n",
       "    <tr>\n",
       "      <th>Qatar</th>\n",
       "      <td>21</td>\n",
       "    </tr>\n",
       "    <tr>\n",
       "      <th>Palau</th>\n",
       "      <td>21</td>\n",
       "    </tr>\n",
       "    <tr>\n",
       "      <th>SÃ£o TomÃ© and Principe</th>\n",
       "      <td>20</td>\n",
       "    </tr>\n",
       "    <tr>\n",
       "      <th>Afghanistan</th>\n",
       "      <td>19</td>\n",
       "    </tr>\n",
       "    <tr>\n",
       "      <th>Nauru</th>\n",
       "      <td>17</td>\n",
       "    </tr>\n",
       "    <tr>\n",
       "      <th>Cayman Islands</th>\n",
       "      <td>15</td>\n",
       "    </tr>\n",
       "    <tr>\n",
       "      <th>Kosovo</th>\n",
       "      <td>13</td>\n",
       "    </tr>\n",
       "    <tr>\n",
       "      <th>Turks and Caicos Islands</th>\n",
       "      <td>10</td>\n",
       "    </tr>\n",
       "    <tr>\n",
       "      <th>Sint Maarten (Dutch part)</th>\n",
       "      <td>10</td>\n",
       "    </tr>\n",
       "    <tr>\n",
       "      <th>Somalia</th>\n",
       "      <td>8</td>\n",
       "    </tr>\n",
       "    <tr>\n",
       "      <th>Djibouti</th>\n",
       "      <td>8</td>\n",
       "    </tr>\n",
       "  </tbody>\n",
       "</table>\n",
       "</div>"
      ],
      "text/plain": [
       "                           Country\n",
       "Turkmenistan                    30\n",
       "Hungary                         30\n",
       "Slovak Republic                 29\n",
       "Cambodia                        28\n",
       "West Bank and Gaza              27\n",
       "Bosnia and Herzegovina          27\n",
       "Slovenia                        26\n",
       "Latvia                          26\n",
       "Israel                          26\n",
       "Lithuania                       26\n",
       "Serbia                          26\n",
       "Moldova                         26\n",
       "Iceland                         26\n",
       "Croatia                         26\n",
       "Estonia                         26\n",
       "Kuwait                          26\n",
       "Maldives                        26\n",
       "Canada                          24\n",
       "Montenegro                      24\n",
       "Small states                    24\n",
       "San Marino                      24\n",
       "Libya                           22\n",
       "Other small states              21\n",
       "Liberia                         21\n",
       "Timor-Leste                     21\n",
       "CuraÃ§ao                        21\n",
       "Qatar                           21\n",
       "Palau                           21\n",
       "SÃ£o TomÃ© and Principe         20\n",
       "Afghanistan                     19\n",
       "Nauru                           17\n",
       "Cayman Islands                  15\n",
       "Kosovo                          13\n",
       "Turks and Caicos Islands        10\n",
       "Sint Maarten (Dutch part)       10\n",
       "Somalia                          8\n",
       "Djibouti                         8"
      ]
     },
     "execution_count": 21,
     "metadata": {},
     "output_type": "execute_result"
    }
   ],
   "source": [
    "year_count.tail(37)"
   ]
  },
  {
   "cell_type": "markdown",
   "id": "c5124575",
   "metadata": {},
   "source": [
    "GDP per capita for the year 2020. Create a histogram, a density plot, a boxplot, and a violin plot. What do you notice when you look at these plots? How do the plots compare and what information can you get out of one type that you can't necessarily get out of the others?"
   ]
  },
  {
   "cell_type": "code",
   "execution_count": 22,
   "id": "feae1de2",
   "metadata": {},
   "outputs": [],
   "source": [
    "data = gdp_df"
   ]
  },
  {
   "cell_type": "code",
   "execution_count": 23,
   "id": "6f760ef5",
   "metadata": {},
   "outputs": [],
   "source": [
    "filtered_data = data[data['Year'] == 2020]"
   ]
  },
  {
   "cell_type": "code",
   "execution_count": 24,
   "id": "3a75410e",
   "metadata": {},
   "outputs": [
    {
     "name": "stdout",
     "output_type": "stream",
     "text": [
      "                          Country  Year  GDP_Per_capita\n",
      "0                     Afghanistan  2020     1970.560169\n",
      "19    Africa Eastern and Southern  2020     3491.978104\n",
      "50     Africa Western and Central  2020     4021.293919\n",
      "81                        Albania  2020    13253.733337\n",
      "112                       Algeria  2020    10735.382539\n",
      "...                           ...   ...             ...\n",
      "7025                      Vietnam  2020    10338.270543\n",
      "7056           West Bank and Gaza  2020     5402.538773\n",
      "7083                        World  2020    16269.969854\n",
      "7114                       Zambia  2020     3277.816510\n",
      "7145                     Zimbabwe  2020     2134.555461\n",
      "\n",
      "[240 rows x 3 columns]\n"
     ]
    }
   ],
   "source": [
    "print(filtered_data)"
   ]
  },
  {
   "cell_type": "code",
   "execution_count": 25,
   "id": "a8f5dc4c",
   "metadata": {},
   "outputs": [],
   "source": [
    "df = pd.DataFrame(filtered_data)"
   ]
  },
  {
   "cell_type": "code",
   "execution_count": 26,
   "id": "47a34e21",
   "metadata": {},
   "outputs": [
    {
     "name": "stdout",
     "output_type": "stream",
     "text": [
      "                          Country  Year  GDP_Per_capita\n",
      "0                     Afghanistan  2020     1970.560169\n",
      "19    Africa Eastern and Southern  2020     3491.978104\n",
      "50     Africa Western and Central  2020     4021.293919\n",
      "81                        Albania  2020    13253.733337\n",
      "112                       Algeria  2020    10735.382539\n",
      "...                           ...   ...             ...\n",
      "7025                      Vietnam  2020    10338.270543\n",
      "7056           West Bank and Gaza  2020     5402.538773\n",
      "7083                        World  2020    16269.969854\n",
      "7114                       Zambia  2020     3277.816510\n",
      "7145                     Zimbabwe  2020     2134.555461\n",
      "\n",
      "[240 rows x 3 columns]\n"
     ]
    }
   ],
   "source": [
    "print(df)"
   ]
  },
  {
   "cell_type": "markdown",
   "id": "c6ccc51f",
   "metadata": {},
   "source": [
    "\"unimodal, skewed left\""
   ]
  },
  {
   "cell_type": "code",
   "execution_count": 27,
   "id": "33451316",
   "metadata": {},
   "outputs": [
    {
     "data": {
      "image/png": "[encoded data removed]",
      "text/plain": [
       "<Figure size 640x480 with 1 Axes>"
      ]
     },
     "metadata": {},
     "output_type": "display_data"
    }
   ],
   "source": [
    "sns.histplot(data=df, x=\"GDP_Per_capita\")\n",
    "plt.show()"
   ]
  },
  {
   "cell_type": "code",
   "execution_count": 29,
   "id": "27b43115",
   "metadata": {},
   "outputs": [
    {
     "data": {
      "image/png": "[encoded data removed]",
      "text/plain": [
       "<Figure size 640x480 with 1 Axes>"
      ]
     },
     "metadata": {},
     "output_type": "display_data"
    }
   ],
   "source": [
    "sns.kdeplot(df['GDP_Per_capita'])\n",
    "plt.show()"
   ]
  },
  {
   "cell_type": "code",
   "execution_count": 28,
   "id": "2dce689d",
   "metadata": {},
   "outputs": [
    {
     "data": {
      "image/png": "[encoded data removed]",
      "text/plain": [
       "<Figure size 640x480 with 1 Axes>"
      ]
     },
     "metadata": {},
     "output_type": "display_data"
    }
   ],
   "source": [
    "sns.boxplot(x='Country', y='GDP_Per_capita', data=df)\n",
    "plt.show()"
   ]
  },
  {
   "cell_type": "code",
   "execution_count": 30,
   "id": "c41b8f19",
   "metadata": {},
   "outputs": [
    {
     "data": {
      "image/png": "[encoded data removed]",
      "text/plain": [
       "<Figure size 640x480 with 1 Axes>"
      ]
     },
     "metadata": {},
     "output_type": "display_data"
    }
   ],
   "source": [
    "sns.violinplot(y=df[\"GDP_Per_capita\"])\n",
    "plt.show()"
   ]
  },
  {
   "cell_type": "markdown",
   "id": "8910eafb",
   "metadata": {},
   "source": [
    "What was the median GDP per capita value in 2020?\n",
    "\n",
    "12908.9374056206"
   ]
  },
  {
   "cell_type": "code",
   "execution_count": 31,
   "id": "abd9355e",
   "metadata": {},
   "outputs": [],
   "source": [
    "median_column = df['GDP_Per_capita'].median()"
   ]
  },
  {
   "cell_type": "code",
   "execution_count": 32,
   "id": "08bd2ee7",
   "metadata": {},
   "outputs": [
    {
     "name": "stdout",
     "output_type": "stream",
     "text": [
      "12908.9374056206\n"
     ]
    }
   ],
   "source": [
    "print(median_column)"
   ]
  },
  {
   "cell_type": "markdown",
   "id": "bd44ecd5",
   "metadata": {},
   "source": [
    "Create some visualizations to compare GDP per capita values for the years 1990, 2000, 2010, and 2020. Start by subsetting your data to just these 4 years into a new DataFrame named gdp_decades. Using this, create a boxplot, barplot, scatterplot, and scatterplot with trend line overlaid. "
   ]
  },
  {
   "cell_type": "code",
   "execution_count": 33,
   "id": "fcf4eb5a",
   "metadata": {},
   "outputs": [],
   "source": [
    "years = [1990, 2000, 2010, 2020]\n",
    "gdp_decades = data[data['Year'].isin(years)]"
   ]
  },
  {
   "cell_type": "code",
   "execution_count": 34,
   "id": "df280fd7",
   "metadata": {},
   "outputs": [],
   "source": [
    "df = pd.DataFrame(gdp_decades)"
   ]
  },
  {
   "cell_type": "code",
   "execution_count": 35,
   "id": "f0c2b5e2",
   "metadata": {},
   "outputs": [
    {
     "data": {
      "text/plain": [
       "<Axes: xlabel='Year', ylabel='GDP_Per_capita'>"
      ]
     },
     "execution_count": 35,
     "metadata": {},
     "output_type": "execute_result"
    },
    {
     "data": {
      "image/png": "[encoded data removed]",
      "text/plain": [
       "<Figure size 640x480 with 1 Axes>"
      ]
     },
     "metadata": {},
     "output_type": "display_data"
    }
   ],
   "source": [
    "sns.boxplot( x=df[\"Year\"], y=df[\"GDP_Per_capita\"] )"
   ]
  },
  {
   "cell_type": "code",
   "execution_count": 36,
   "id": "b3155d96",
   "metadata": {},
   "outputs": [
    {
     "data": {
      "text/plain": [
       "<Axes: xlabel='Year', ylabel='GDP_Per_capita'>"
      ]
     },
     "execution_count": 36,
     "metadata": {},
     "output_type": "execute_result"
    },
    {
     "data": {
      "image/png": "[encoded data removed]",
      "text/plain": [
       "<Figure size 640x480 with 1 Axes>"
      ]
     },
     "metadata": {},
     "output_type": "display_data"
    }
   ],
   "source": [
    "sns.barplot(x=df['Year'], y=df['GDP_Per_capita'])"
   ]
  },
  {
   "cell_type": "code",
   "execution_count": 37,
   "id": "670c5d4c",
   "metadata": {},
   "outputs": [
    {
     "data": {
      "text/plain": [
       "<Axes: xlabel='Year', ylabel='GDP_Per_capita'>"
      ]
     },
     "execution_count": 37,
     "metadata": {},
     "output_type": "execute_result"
    },
    {
     "data": {
      "image/png": "[encoded data removed]",
      "text/plain": [
       "<Figure size 640x480 with 1 Axes>"
      ]
     },
     "metadata": {},
     "output_type": "display_data"
    }
   ],
   "source": [
    "sns.regplot(x=df[\"Year\"], y=df[\"GDP_Per_capita\"])"
   ]
  },
  {
   "cell_type": "code",
   "execution_count": 38,
   "id": "05d6e927",
   "metadata": {},
   "outputs": [
    {
     "data": {
      "image/png": "[encoded data removed]",
      "text/plain": [
       "<Figure size 640x480 with 1 Axes>"
      ]
     },
     "metadata": {},
     "output_type": "display_data"
    }
   ],
   "source": [
    "sns.regplot(x=df[\"Year\"], y=df[\"GDP_Per_capita\"], line_kws={\"color\":\"r\",\"alpha\":0.7,\"lw\":5})\n",
    "plt.show()"
   ]
  },
  {
   "cell_type": "markdown",
   "id": "f945f9b2",
   "metadata": {},
   "source": [
    "Comment on what you observe has happened to GDP values over time and the relative strengths and weaknesses of each type of plot.\n",
    "\n",
    "GDP has increased throughout the decades. Each decade has had at least one outlier. I think the strongest is the scatter plot with trend line. It is easier to understand and more easily applicable to this dataframe."
   ]
  },
  {
   "cell_type": "markdown",
   "id": "9b51ce23",
   "metadata": {},
   "source": [
    "Which country was the first to have a GDP per capita greater than $100,000?\n",
    "\n",
    "UAE in 1990"
   ]
  },
  {
   "cell_type": "code",
   "execution_count": 39,
   "id": "9ca89ffc",
   "metadata": {},
   "outputs": [
    {
     "name": "stdout",
     "output_type": "stream",
     "text": [
      "          Country  Year  GDP_Per_capita\n",
      "0     Afghanistan  2020     1970.560169\n",
      "1     Afghanistan  2019     2065.036235\n",
      "2     Afghanistan  2018     2033.804389\n",
      "3     Afghanistan  2017     2058.400221\n",
      "4     Afghanistan  2016     2057.067978\n",
      "...           ...   ...             ...\n",
      "7171     Zimbabwe  1994     2603.927369\n",
      "7172     Zimbabwe  1993     2420.092791\n",
      "7173     Zimbabwe  1992     2437.152908\n",
      "7174     Zimbabwe  1991     2733.696626\n",
      "7175     Zimbabwe  1990     2652.129209\n",
      "\n",
      "[7176 rows x 3 columns]\n"
     ]
    }
   ],
   "source": [
    "print(data)"
   ]
  },
  {
   "cell_type": "code",
   "execution_count": 40,
   "id": "04e240b0",
   "metadata": {},
   "outputs": [
    {
     "data": {
      "text/html": [
       "<div>\n",
       "<style scoped>\n",
       "    .dataframe tbody tr th:only-of-type {\n",
       "        vertical-align: middle;\n",
       "    }\n",
       "\n",
       "    .dataframe tbody tr th {\n",
       "        vertical-align: top;\n",
       "    }\n",
       "\n",
       "    .dataframe thead th {\n",
       "        text-align: right;\n",
       "    }\n",
       "</style>\n",
       "<table border=\"1\" class=\"dataframe\">\n",
       "  <thead>\n",
       "    <tr style=\"text-align: right;\">\n",
       "      <th></th>\n",
       "      <th>Country</th>\n",
       "      <th>Year</th>\n",
       "      <th>GDP_Per_capita</th>\n",
       "    </tr>\n",
       "  </thead>\n",
       "  <tbody>\n",
       "    <tr>\n",
       "      <th>4544</th>\n",
       "      <td>Mozambique</td>\n",
       "      <td>1992</td>\n",
       "      <td>436.720371</td>\n",
       "    </tr>\n",
       "    <tr>\n",
       "      <th>4543</th>\n",
       "      <td>Mozambique</td>\n",
       "      <td>1993</td>\n",
       "      <td>464.018358</td>\n",
       "    </tr>\n",
       "    <tr>\n",
       "      <th>4541</th>\n",
       "      <td>Mozambique</td>\n",
       "      <td>1995</td>\n",
       "      <td>469.189504</td>\n",
       "    </tr>\n",
       "    <tr>\n",
       "      <th>4546</th>\n",
       "      <td>Mozambique</td>\n",
       "      <td>1990</td>\n",
       "      <td>471.325103</td>\n",
       "    </tr>\n",
       "    <tr>\n",
       "      <th>4542</th>\n",
       "      <td>Mozambique</td>\n",
       "      <td>1994</td>\n",
       "      <td>475.249723</td>\n",
       "    </tr>\n",
       "    <tr>\n",
       "      <th>...</th>\n",
       "      <td>...</td>\n",
       "      <td>...</td>\n",
       "      <td>...</td>\n",
       "    </tr>\n",
       "    <tr>\n",
       "      <th>3915</th>\n",
       "      <td>Macao SAR, China</td>\n",
       "      <td>2018</td>\n",
       "      <td>132373.544079</td>\n",
       "    </tr>\n",
       "    <tr>\n",
       "      <th>3922</th>\n",
       "      <td>Macao SAR, China</td>\n",
       "      <td>2011</td>\n",
       "      <td>140321.907954</td>\n",
       "    </tr>\n",
       "    <tr>\n",
       "      <th>3921</th>\n",
       "      <td>Macao SAR, China</td>\n",
       "      <td>2012</td>\n",
       "      <td>149702.441471</td>\n",
       "    </tr>\n",
       "    <tr>\n",
       "      <th>3919</th>\n",
       "      <td>Macao SAR, China</td>\n",
       "      <td>2014</td>\n",
       "      <td>155201.740571</td>\n",
       "    </tr>\n",
       "    <tr>\n",
       "      <th>3920</th>\n",
       "      <td>Macao SAR, China</td>\n",
       "      <td>2013</td>\n",
       "      <td>161971.464661</td>\n",
       "    </tr>\n",
       "  </tbody>\n",
       "</table>\n",
       "<p>7176 rows × 3 columns</p>\n",
       "</div>"
      ],
      "text/plain": [
       "               Country  Year  GDP_Per_capita\n",
       "4544        Mozambique  1992      436.720371\n",
       "4543        Mozambique  1993      464.018358\n",
       "4541        Mozambique  1995      469.189504\n",
       "4546        Mozambique  1990      471.325103\n",
       "4542        Mozambique  1994      475.249723\n",
       "...                ...   ...             ...\n",
       "3915  Macao SAR, China  2018   132373.544079\n",
       "3922  Macao SAR, China  2011   140321.907954\n",
       "3921  Macao SAR, China  2012   149702.441471\n",
       "3919  Macao SAR, China  2014   155201.740571\n",
       "3920  Macao SAR, China  2013   161971.464661\n",
       "\n",
       "[7176 rows x 3 columns]"
      ]
     },
     "execution_count": 40,
     "metadata": {},
     "output_type": "execute_result"
    }
   ],
   "source": [
    "data.sort_values(by = 'GDP_Per_capita')"
   ]
  },
  {
   "cell_type": "code",
   "execution_count": 41,
   "id": "00b8e9de",
   "metadata": {},
   "outputs": [],
   "source": [
    "filtered_data = data[data['GDP_Per_capita'] > 100000]"
   ]
  },
  {
   "cell_type": "code",
   "execution_count": 42,
   "id": "e1d34fda",
   "metadata": {},
   "outputs": [
    {
     "name": "stdout",
     "output_type": "stream",
     "text": [
      "                   Country  Year  GDP_Per_capita\n",
      "3882            Luxembourg  2020   112557.309472\n",
      "3883            Luxembourg  2019   116518.276815\n",
      "3884            Luxembourg  2018   115049.926079\n",
      "3885            Luxembourg  2017   114985.842236\n",
      "3886            Luxembourg  2016   116283.699681\n",
      "3887            Luxembourg  2015   113182.728563\n",
      "3888            Luxembourg  2014   113313.578898\n",
      "3889            Luxembourg  2013   113050.663254\n",
      "3890            Luxembourg  2012   112137.135491\n",
      "3891            Luxembourg  2011   112998.390477\n",
      "3892            Luxembourg  2010   114343.988089\n",
      "3893            Luxembourg  2009   112230.081410\n",
      "3894            Luxembourg  2008   118154.667184\n",
      "3895            Luxembourg  2007   120647.822959\n",
      "3896            Luxembourg  2006   113346.035782\n",
      "3897            Luxembourg  2005   108632.360016\n",
      "3898            Luxembourg  2004   107634.837198\n",
      "3899            Luxembourg  2003   104743.000088\n",
      "3900            Luxembourg  2002   103317.331098\n",
      "3901            Luxembourg  2001   101143.147977\n",
      "3914      Macao SAR, China  2019   127272.548511\n",
      "3915      Macao SAR, China  2018   132373.544079\n",
      "3916      Macao SAR, China  2017   126144.104058\n",
      "3917      Macao SAR, China  2016   116519.507535\n",
      "3918      Macao SAR, China  2015   119406.919122\n",
      "3919      Macao SAR, China  2014   155201.740571\n",
      "3920      Macao SAR, China  2013   161971.464661\n",
      "3921      Macao SAR, China  2012   149702.441471\n",
      "3922      Macao SAR, China  2011   140321.907954\n",
      "3923      Macao SAR, China  2010   118085.567175\n",
      "6828  United Arab Emirates  2000   102494.714624\n",
      "6830  United Arab Emirates  1998   100100.435658\n",
      "6831  United Arab Emirates  1997   105108.996265\n",
      "6832  United Arab Emirates  1996   102211.638844\n",
      "6833  United Arab Emirates  1995   101570.992100\n",
      "6834  United Arab Emirates  1994   100213.156226\n",
      "6836  United Arab Emirates  1992   103470.924576\n",
      "6837  United Arab Emirates  1991   106103.552655\n",
      "6838  United Arab Emirates  1990   111454.055665\n"
     ]
    }
   ],
   "source": [
    "print(filtered_data)"
   ]
  },
  {
   "cell_type": "code",
   "execution_count": 43,
   "id": "1910b352",
   "metadata": {},
   "outputs": [],
   "source": [
    "min_year = filtered_data['Year'].min()"
   ]
  },
  {
   "cell_type": "code",
   "execution_count": 44,
   "id": "efdaf75a",
   "metadata": {},
   "outputs": [
    {
     "name": "stdout",
     "output_type": "stream",
     "text": [
      "1990\n"
     ]
    }
   ],
   "source": [
    "print(min_year)"
   ]
  },
  {
   "cell_type": "markdown",
   "id": "eae4954d",
   "metadata": {},
   "source": [
    "Which country had the highest GDP per capita in 2020? Create a plot showing how this country's GDP per capita has changed over the timespan of the dataset.\n",
    "\n",
    "Luxembourg"
   ]
  },
  {
   "cell_type": "code",
   "execution_count": 45,
   "id": "5f20dfcf",
   "metadata": {},
   "outputs": [],
   "source": [
    "sorted_data = data.sort_values(by='GDP_Per_capita', ascending=False)"
   ]
  },
  {
   "cell_type": "code",
   "execution_count": 46,
   "id": "253bb755",
   "metadata": {},
   "outputs": [],
   "source": [
    "highest_2020 = sorted_data[sorted_data['Year'] == 2020].head(1)"
   ]
  },
  {
   "cell_type": "code",
   "execution_count": 47,
   "id": "92f2eca5",
   "metadata": {},
   "outputs": [
    {
     "name": "stdout",
     "output_type": "stream",
     "text": [
      "         Country  Year  GDP_Per_capita\n",
      "3882  Luxembourg  2020   112557.309472\n"
     ]
    }
   ],
   "source": [
    "print(highest_2020)"
   ]
  },
  {
   "cell_type": "code",
   "execution_count": 48,
   "id": "1d1d4dc9",
   "metadata": {},
   "outputs": [],
   "source": [
    "Lux = sorted_data[sorted_data['Country'] == 'Luxembourg']"
   ]
  },
  {
   "cell_type": "code",
   "execution_count": 49,
   "id": "ff37737c",
   "metadata": {},
   "outputs": [],
   "source": [
    "df = pd.DataFrame(Lux)"
   ]
  },
  {
   "cell_type": "code",
   "execution_count": 50,
   "id": "1aed5d3e",
   "metadata": {},
   "outputs": [
    {
     "name": "stdout",
     "output_type": "stream",
     "text": [
      "         Country  Year  GDP_Per_capita\n",
      "3895  Luxembourg  2007   120647.822959\n",
      "3894  Luxembourg  2008   118154.667184\n",
      "3883  Luxembourg  2019   116518.276815\n",
      "3886  Luxembourg  2016   116283.699681\n",
      "3884  Luxembourg  2018   115049.926079\n",
      "3885  Luxembourg  2017   114985.842236\n",
      "3892  Luxembourg  2010   114343.988089\n",
      "3896  Luxembourg  2006   113346.035782\n",
      "3888  Luxembourg  2014   113313.578898\n",
      "3887  Luxembourg  2015   113182.728563\n",
      "3889  Luxembourg  2013   113050.663254\n",
      "3891  Luxembourg  2011   112998.390477\n",
      "3882  Luxembourg  2020   112557.309472\n",
      "3893  Luxembourg  2009   112230.081410\n",
      "3890  Luxembourg  2012   112137.135491\n",
      "3897  Luxembourg  2005   108632.360016\n",
      "3898  Luxembourg  2004   107634.837198\n",
      "3899  Luxembourg  2003   104743.000088\n",
      "3900  Luxembourg  2002   103317.331098\n",
      "3901  Luxembourg  2001   101143.147977\n",
      "3902  Luxembourg  2000    99301.526999\n",
      "3903  Luxembourg  1999    94115.384035\n",
      "3904  Luxembourg  1998    88185.800110\n",
      "3905  Luxembourg  1997    83702.813530\n",
      "3906  Luxembourg  1996    80401.032017\n",
      "3907  Luxembourg  1995    80379.127629\n",
      "3908  Luxembourg  1994    80365.224508\n",
      "3909  Luxembourg  1993    78468.921760\n",
      "3910  Luxembourg  1992    76323.304753\n",
      "3911  Luxembourg  1991    75961.668717\n",
      "3912  Luxembourg  1990    70860.819124\n"
     ]
    }
   ],
   "source": [
    "print(Lux)"
   ]
  },
  {
   "cell_type": "code",
   "execution_count": 51,
   "id": "72c9444a",
   "metadata": {},
   "outputs": [
    {
     "data": {
      "text/plain": [
       "[<matplotlib.lines.Line2D at 0x184a3aff3d0>]"
      ]
     },
     "execution_count": 51,
     "metadata": {},
     "output_type": "execute_result"
    },
    {
     "data": {
      "image/png": "[encoded data removed]",
      "text/plain": [
       "<Figure size 640x480 with 1 Axes>"
      ]
     },
     "metadata": {},
     "output_type": "display_data"
    }
   ],
   "source": [
    "plt.plot( 'Year', 'GDP_Per_capita', data=df)"
   ]
  },
  {
   "cell_type": "markdown",
   "id": "252d9d8d",
   "metadata": {},
   "source": [
    "Which country had the lowest GDP per capita in 2020? Create a plot showing how this country's GDP per capita has changed over the timespan of the dataset."
   ]
  },
  {
   "cell_type": "markdown",
   "id": "c54e46d0",
   "metadata": {},
   "source": [
    "sorted_data = data.sort_values(by='GDP_Per_capita', ascending=True)"
   ]
  },
  {
   "cell_type": "code",
   "execution_count": 52,
   "id": "c640c1f9",
   "metadata": {},
   "outputs": [],
   "source": [
    "lowest_2020 = sorted_data[sorted_data['Year'] == 2020].tail(1)"
   ]
  },
  {
   "cell_type": "code",
   "execution_count": 53,
   "id": "e7e96f75",
   "metadata": {},
   "outputs": [
    {
     "name": "stdout",
     "output_type": "stream",
     "text": [
      "     Country  Year  GDP_Per_capita\n",
      "914  Burundi  2020      731.064074\n"
     ]
    }
   ],
   "source": [
    "print(lowest_2020)"
   ]
  },
  {
   "cell_type": "code",
   "execution_count": 54,
   "id": "988e0a3a",
   "metadata": {},
   "outputs": [],
   "source": [
    "Bur = sorted_data[sorted_data['Country'] == 'Burundi']"
   ]
  },
  {
   "cell_type": "code",
   "execution_count": 55,
   "id": "4ea73708",
   "metadata": {},
   "outputs": [],
   "source": [
    "df = pd.DataFrame(Bur)"
   ]
  },
  {
   "cell_type": "code",
   "execution_count": 56,
   "id": "adf014c9",
   "metadata": {},
   "outputs": [
    {
     "name": "stdout",
     "output_type": "stream",
     "text": [
      "     Country  Year  GDP_Per_capita\n",
      "943  Burundi  1991     1215.887215\n",
      "942  Burundi  1992     1202.106321\n",
      "944  Burundi  1990     1184.842032\n",
      "941  Burundi  1993     1105.228711\n",
      "940  Burundi  1994     1044.716092\n",
      "939  Burundi  1995      947.822231\n",
      "920  Burundi  2014      886.235296\n",
      "921  Burundi  2013      877.272857\n",
      "936  Burundi  1998      870.043821\n",
      "922  Burundi  2012      862.715651\n",
      "938  Burundi  1996      861.482899\n",
      "923  Burundi  2011      852.502576\n",
      "935  Burundi  1999      850.046951\n",
      "924  Burundi  2010      846.169112\n",
      "932  Burundi  2002      839.777920\n",
      "937  Burundi  1997      839.196865\n",
      "925  Burundi  2009      831.564843\n",
      "934  Burundi  2000      828.000479\n",
      "926  Burundi  2008      827.792334\n",
      "933  Burundi  2001      826.028960\n",
      "919  Burundi  2015      825.205574\n",
      "930  Burundi  2004      817.461177\n",
      "927  Burundi  2007      815.908213\n",
      "928  Burundi  2006      815.053647\n",
      "931  Burundi  2003      804.884232\n",
      "929  Burundi  2005      798.704845\n",
      "918  Burundi  2016      794.604340\n",
      "917  Burundi  2017      773.572859\n",
      "916  Burundi  2018      761.524143\n",
      "915  Burundi  2019      751.443405\n",
      "914  Burundi  2020      731.064074\n"
     ]
    }
   ],
   "source": [
    "print(Bur)"
   ]
  },
  {
   "cell_type": "code",
   "execution_count": 57,
   "id": "1ea97c13",
   "metadata": {},
   "outputs": [
    {
     "data": {
      "text/plain": [
       "[<matplotlib.lines.Line2D at 0x184a3b9ce50>]"
      ]
     },
     "execution_count": 57,
     "metadata": {},
     "output_type": "execute_result"
    },
    {
     "data": {
      "image/png": "[encoded data removed]",
      "text/plain": [
       "<Figure size 640x480 with 1 Axes>"
      ]
     },
     "metadata": {},
     "output_type": "display_data"
    }
   ],
   "source": [
    "plt.plot( 'Year', 'GDP_Per_capita', data=df)"
   ]
  },
  {
   "cell_type": "code",
   "execution_count": 58,
   "id": "c87b9e3a",
   "metadata": {},
   "outputs": [],
   "source": [
    "internet_df = pd.read_csv(\"C:\\\\Users\\\\April\\\\NSS\\\\python\\\\projects\\\\un_data-april1365\\\\data\\\\internet_use.csv.csv\", nrows = 4495)"
   ]
  },
  {
   "cell_type": "code",
   "execution_count": 59,
   "id": "8cfa8584",
   "metadata": {},
   "outputs": [
    {
     "name": "stdout",
     "output_type": "stream",
     "text": [
      "     Country or Area  Year     Value  Value Footnotes\n",
      "0        Afghanistan  2014  6.390000              NaN\n",
      "1        Afghanistan  2013  5.900000              NaN\n",
      "2        Afghanistan  2012  5.454545              NaN\n",
      "3        Afghanistan  2011  5.000000              NaN\n",
      "4        Afghanistan  2010  4.000000              NaN\n",
      "...              ...   ...       ...              ...\n",
      "4490        Zimbabwe  1997  0.033080              NaN\n",
      "4491        Zimbabwe  1996  0.016790              NaN\n",
      "4492        Zimbabwe  1995  0.007684              NaN\n",
      "4493        Zimbabwe  1994  0.001739              NaN\n",
      "4494        Zimbabwe  1990  0.000000              NaN\n",
      "\n",
      "[4495 rows x 4 columns]\n"
     ]
    }
   ],
   "source": [
    "print(internet_df)"
   ]
  },
  {
   "cell_type": "code",
   "execution_count": 60,
   "id": "9576e2f8",
   "metadata": {},
   "outputs": [],
   "source": [
    "internet_df = internet_df.drop(columns = ['Value Footnotes'])"
   ]
  },
  {
   "cell_type": "code",
   "execution_count": 61,
   "id": "dc7b9e96",
   "metadata": {},
   "outputs": [],
   "source": [
    "internet_df.columns = ['Country', 'Year', 'Internet_Users_Pct']"
   ]
  },
  {
   "cell_type": "code",
   "execution_count": 62,
   "id": "60e9b627",
   "metadata": {},
   "outputs": [
    {
     "name": "stdout",
     "output_type": "stream",
     "text": [
      "          Country  Year  Internet_Users_Pct\n",
      "0     Afghanistan  2014            6.390000\n",
      "1     Afghanistan  2013            5.900000\n",
      "2     Afghanistan  2012            5.454545\n",
      "3     Afghanistan  2011            5.000000\n",
      "4     Afghanistan  2010            4.000000\n",
      "...           ...   ...                 ...\n",
      "4490     Zimbabwe  1997            0.033080\n",
      "4491     Zimbabwe  1996            0.016790\n",
      "4492     Zimbabwe  1995            0.007684\n",
      "4493     Zimbabwe  1994            0.001739\n",
      "4494     Zimbabwe  1990            0.000000\n",
      "\n",
      "[4495 rows x 3 columns]\n"
     ]
    }
   ],
   "source": [
    "print(internet_df)"
   ]
  },
  {
   "cell_type": "markdown",
   "id": "b8646a06",
   "metadata": {},
   "source": [
    "Look at the number of observations in this dataset per year. What do you notice?\n",
    "\n",
    "1990 is an outlier. Excluding 1990, observations increased year after year from 1960 to 2021. 2012-2014 experienced a slight dip compared to 2011."
   ]
  },
  {
   "cell_type": "code",
   "execution_count": 63,
   "id": "958f91ad",
   "metadata": {},
   "outputs": [
    {
     "data": {
      "text/plain": [
       "2014    202\n",
       "2013    202\n",
       "2012    203\n",
       "2011    207\n",
       "2010    203\n",
       "2009    203\n",
       "2008    204\n",
       "2007    206\n",
       "2006    200\n",
       "2005    201\n",
       "2004    199\n",
       "2003    196\n",
       "2002    202\n",
       "2001    201\n",
       "2000    199\n",
       "1999    198\n",
       "1998    190\n",
       "1997    184\n",
       "1996    175\n",
       "1995    138\n",
       "1994     91\n",
       "1993     65\n",
       "1992     50\n",
       "1991     39\n",
       "1990    210\n",
       "1989      8\n",
       "1988      7\n",
       "1987      7\n",
       "1986      7\n",
       "1985      7\n",
       "1984      7\n",
       "1983      7\n",
       "1982      7\n",
       "1981      7\n",
       "1980      7\n",
       "1979      7\n",
       "1978      7\n",
       "1977      7\n",
       "1976      7\n",
       "1975      7\n",
       "1970      7\n",
       "1965      7\n",
       "1960      7\n",
       "Name: Year, dtype: int64"
      ]
     },
     "execution_count": 63,
     "metadata": {},
     "output_type": "execute_result"
    }
   ],
   "source": [
    "internet_df.Year.value_counts().sort_index(ascending=False)"
   ]
  },
  {
   "cell_type": "markdown",
   "id": "30452f77",
   "metadata": {},
   "source": [
    "What is the first year to have a non-zero internet users percentage value? \n",
    "\n",
    "1990"
   ]
  },
  {
   "cell_type": "code",
   "execution_count": 64,
   "id": "75727ee2",
   "metadata": {},
   "outputs": [
    {
     "name": "stdout",
     "output_type": "stream",
     "text": [
      "          Country  Year  Internet_Users_Pct\n",
      "0     Afghanistan  2014            6.390000\n",
      "1     Afghanistan  2013            5.900000\n",
      "2     Afghanistan  2012            5.454545\n",
      "3     Afghanistan  2011            5.000000\n",
      "4     Afghanistan  2010            4.000000\n",
      "...           ...   ...                 ...\n",
      "4490     Zimbabwe  1997            0.033080\n",
      "4491     Zimbabwe  1996            0.016790\n",
      "4492     Zimbabwe  1995            0.007684\n",
      "4493     Zimbabwe  1994            0.001739\n",
      "4494     Zimbabwe  1990            0.000000\n",
      "\n",
      "[4495 rows x 3 columns]\n"
     ]
    }
   ],
   "source": [
    "print(internet_df)"
   ]
  },
  {
   "cell_type": "code",
   "execution_count": 65,
   "id": "3be1cbbe",
   "metadata": {},
   "outputs": [],
   "source": [
    "data = internet_df"
   ]
  },
  {
   "cell_type": "code",
   "execution_count": 66,
   "id": "49fb2e0b",
   "metadata": {},
   "outputs": [
    {
     "data": {
      "text/html": [
       "<div>\n",
       "<style scoped>\n",
       "    .dataframe tbody tr th:only-of-type {\n",
       "        vertical-align: middle;\n",
       "    }\n",
       "\n",
       "    .dataframe tbody tr th {\n",
       "        vertical-align: top;\n",
       "    }\n",
       "\n",
       "    .dataframe thead th {\n",
       "        text-align: right;\n",
       "    }\n",
       "</style>\n",
       "<table border=\"1\" class=\"dataframe\">\n",
       "  <thead>\n",
       "    <tr style=\"text-align: right;\">\n",
       "      <th></th>\n",
       "      <th>Country</th>\n",
       "      <th>Year</th>\n",
       "      <th>Internet_Users_Pct</th>\n",
       "    </tr>\n",
       "  </thead>\n",
       "  <tbody>\n",
       "    <tr>\n",
       "      <th>4494</th>\n",
       "      <td>Zimbabwe</td>\n",
       "      <td>1990</td>\n",
       "      <td>0.0000</td>\n",
       "    </tr>\n",
       "    <tr>\n",
       "      <th>3897</th>\n",
       "      <td>Syria</td>\n",
       "      <td>1992</td>\n",
       "      <td>0.0000</td>\n",
       "    </tr>\n",
       "    <tr>\n",
       "      <th>3898</th>\n",
       "      <td>Syria</td>\n",
       "      <td>1991</td>\n",
       "      <td>0.0000</td>\n",
       "    </tr>\n",
       "    <tr>\n",
       "      <th>3899</th>\n",
       "      <td>Syria</td>\n",
       "      <td>1990</td>\n",
       "      <td>0.0000</td>\n",
       "    </tr>\n",
       "    <tr>\n",
       "      <th>1363</th>\n",
       "      <td>Fiji</td>\n",
       "      <td>1990</td>\n",
       "      <td>0.0000</td>\n",
       "    </tr>\n",
       "    <tr>\n",
       "      <th>...</th>\n",
       "      <td>...</td>\n",
       "      <td>...</td>\n",
       "      <td>...</td>\n",
       "    </tr>\n",
       "    <tr>\n",
       "      <th>1868</th>\n",
       "      <td>Iceland</td>\n",
       "      <td>2012</td>\n",
       "      <td>96.2098</td>\n",
       "    </tr>\n",
       "    <tr>\n",
       "      <th>3016</th>\n",
       "      <td>Norway</td>\n",
       "      <td>2014</td>\n",
       "      <td>96.3000</td>\n",
       "    </tr>\n",
       "    <tr>\n",
       "      <th>1867</th>\n",
       "      <td>Iceland</td>\n",
       "      <td>2013</td>\n",
       "      <td>96.5468</td>\n",
       "    </tr>\n",
       "    <tr>\n",
       "      <th>415</th>\n",
       "      <td>Bermuda</td>\n",
       "      <td>2014</td>\n",
       "      <td>96.8000</td>\n",
       "    </tr>\n",
       "    <tr>\n",
       "      <th>1866</th>\n",
       "      <td>Iceland</td>\n",
       "      <td>2014</td>\n",
       "      <td>98.1600</td>\n",
       "    </tr>\n",
       "  </tbody>\n",
       "</table>\n",
       "<p>4495 rows × 3 columns</p>\n",
       "</div>"
      ],
      "text/plain": [
       "       Country  Year  Internet_Users_Pct\n",
       "4494  Zimbabwe  1990              0.0000\n",
       "3897     Syria  1992              0.0000\n",
       "3898     Syria  1991              0.0000\n",
       "3899     Syria  1990              0.0000\n",
       "1363      Fiji  1990              0.0000\n",
       "...        ...   ...                 ...\n",
       "1868   Iceland  2012             96.2098\n",
       "3016    Norway  2014             96.3000\n",
       "1867   Iceland  2013             96.5468\n",
       "415    Bermuda  2014             96.8000\n",
       "1866   Iceland  2014             98.1600\n",
       "\n",
       "[4495 rows x 3 columns]"
      ]
     },
     "execution_count": 66,
     "metadata": {},
     "output_type": "execute_result"
    }
   ],
   "source": [
    "data.sort_values(by = 'Internet_Users_Pct')"
   ]
  },
  {
   "cell_type": "code",
   "execution_count": 67,
   "id": "62aa73b7",
   "metadata": {},
   "outputs": [],
   "source": [
    "filtered_data = data[data['Internet_Users_Pct'] > 0]"
   ]
  },
  {
   "cell_type": "code",
   "execution_count": null,
   "id": "dd5030b3",
   "metadata": {},
   "outputs": [],
   "source": [
    "print(filtered_data)"
   ]
  },
  {
   "cell_type": "code",
   "execution_count": null,
   "id": "6ae307bb",
   "metadata": {},
   "outputs": [],
   "source": [
    "sorted_data = filtered_data.sort_values(by='Year', ascending=True)"
   ]
  },
  {
   "cell_type": "code",
   "execution_count": null,
   "id": "71e6f31b",
   "metadata": {},
   "outputs": [],
   "source": [
    "print(sorted_data)"
   ]
  },
  {
   "cell_type": "markdown",
   "id": "b670a222",
   "metadata": {},
   "source": [
    "How does the distribution of internet users percent differ for 2000 and 2014?\n",
    "\n",
    "Every country saw an increase in this timeframe, most with stark increases. Some countries didn't have data for both years, so no comparison could be made."
   ]
  },
  {
   "cell_type": "code",
   "execution_count": null,
   "id": "34e6c8b4",
   "metadata": {},
   "outputs": [],
   "source": [
    "data = internet_df"
   ]
  },
  {
   "cell_type": "code",
   "execution_count": null,
   "id": "33feca49",
   "metadata": {},
   "outputs": [],
   "source": [
    "filtered_data = data[data['Year'].isin([2000, 2014])]"
   ]
  },
  {
   "cell_type": "code",
   "execution_count": null,
   "id": "4c8f9c17",
   "metadata": {},
   "outputs": [],
   "source": [
    "print(filtered_data.to_string(index=False, max_rows=None))"
   ]
  },
  {
   "cell_type": "markdown",
   "id": "a5fafc56",
   "metadata": {},
   "source": [
    "For how many countries was the percentage of internet users below 5% in 2014?\n",
    "\n",
    "16"
   ]
  },
  {
   "cell_type": "code",
   "execution_count": null,
   "id": "e7cd0ae2",
   "metadata": {},
   "outputs": [],
   "source": [
    "filtered_data = data[data['Year'].isin([2014]) & (data['Internet_Users_Pct'] < 5)]"
   ]
  },
  {
   "cell_type": "code",
   "execution_count": null,
   "id": "9d74c240",
   "metadata": {},
   "outputs": [],
   "source": [
    "print(filtered_data)"
   ]
  },
  {
   "cell_type": "code",
   "execution_count": null,
   "id": "1a463001",
   "metadata": {},
   "outputs": [],
   "source": [
    "count = len(filtered_data)\n",
    "print(count)"
   ]
  },
  {
   "cell_type": "markdown",
   "id": "fc0c9a95",
   "metadata": {},
   "source": [
    "Merge the two DataFrames to one. Do this in a way that keeps all rows from each of the two DataFrames. Call the new DataFrame gdp_and_internet_use."
   ]
  },
  {
   "cell_type": "code",
   "execution_count": null,
   "id": "b0c16afd",
   "metadata": {},
   "outputs": [],
   "source": [
    "gdp_and_internet_use = pd.merge(gdp_df, internet_df, \n",
    "                               left_on=['Country', 'Year'], right_on=['Country', 'Year'], \n",
    "                               how='outer')"
   ]
  },
  {
   "cell_type": "code",
   "execution_count": null,
   "id": "1e9dc28c",
   "metadata": {},
   "outputs": [],
   "source": [
    "print(gdp_and_internet_use)"
   ]
  },
  {
   "cell_type": "markdown",
   "id": "80f0741b",
   "metadata": {},
   "source": [
    "Find the three countries with the highest internet users percentage in 2014. Use a seaborn FacetGrid to compare how the GDP per capita has changed over time for these three countries. What do you notice?\n",
    "\n",
    "Iceland, Bermuda, Norway"
   ]
  },
  {
   "cell_type": "code",
   "execution_count": null,
   "id": "b652809c",
   "metadata": {},
   "outputs": [],
   "source": [
    "data = gdp_and_internet_use"
   ]
  },
  {
   "cell_type": "code",
   "execution_count": null,
   "id": "047f2730",
   "metadata": {},
   "outputs": [],
   "source": [
    "filtered_data = data.loc[data[\"Country\"].isin(['Iceland', 'Bermuda', 'Norway'])]"
   ]
  },
  {
   "cell_type": "code",
   "execution_count": null,
   "id": "c6f136a3",
   "metadata": {
    "scrolled": true
   },
   "outputs": [],
   "source": [
    "filtered_data.sort_values(by=\"Internet_Users_Pct\", ascending=False).head(3)"
   ]
  },
  {
   "cell_type": "code",
   "execution_count": null,
   "id": "10ad3e64",
   "metadata": {},
   "outputs": [],
   "source": [
    "df = filtered_data"
   ]
  },
  {
   "cell_type": "code",
   "execution_count": null,
   "id": "c0287837",
   "metadata": {},
   "outputs": [],
   "source": [
    "top3 = sns.FacetGrid(df)\n",
    "top3.map(sns.scatterplot, \"Year\", \"GDP_Per_capita\")\n",
    "top3.set_axis_labels(\"Year\", \"GDP per capita\")"
   ]
  },
  {
   "cell_type": "code",
   "execution_count": null,
   "id": "934f0077",
   "metadata": {},
   "outputs": [],
   "source": []
  },
  {
   "cell_type": "code",
   "execution_count": null,
   "id": "059c80e2",
   "metadata": {},
   "outputs": [],
   "source": []
  },
  {
   "cell_type": "code",
   "execution_count": null,
   "id": "0fac6262",
   "metadata": {},
   "outputs": [],
   "source": []
  }
 ],
 "metadata": {
  "kernelspec": {
   "display_name": "Python 3 (ipykernel)",
   "language": "python",
   "name": "python3"
  },
  "language_info": {
   "codemirror_mode": {
    "name": "ipython",
    "version": 3
   },
   "file_extension": ".py",
   "mimetype": "text/x-python",
   "name": "python",
   "nbconvert_exporter": "python",
   "pygments_lexer": "ipython3",
   "version": "3.10.9"
  }
 },
 "nbformat": 4,
 "nbformat_minor": 5
}
